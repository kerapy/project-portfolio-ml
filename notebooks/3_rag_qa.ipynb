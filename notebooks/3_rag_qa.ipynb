{
 "cells": [
  {
   "cell_type": "markdown",
   "id": "3da9cce4",
   "metadata": {},
   "source": [
    "## RAG"
   ]
  },
  {
   "cell_type": "markdown",
   "id": "35b166e8",
   "metadata": {},
   "source": [
    "Autores :   \n",
    "- Pablo Gonzalez  \n",
    "- Araceli Sanchez\n",
    "  \n",
    "Fecha : 4/10/2025"
   ]
  },
  {
   "cell_type": "code",
   "execution_count": 7,
   "id": "a073cba5",
   "metadata": {},
   "outputs": [
    {
     "name": "stdout",
     "output_type": "stream",
     "text": [
      "Requirement already satisfied: langchain in c:\\users\\arasm\\documentos\\curso de matematica y algoritmos\\myenv\\lib\\site-packages (0.3.27)\n",
      "Collecting unstructured\n",
      "  Downloading unstructured-0.18.15-py3-none-any.whl.metadata (24 kB)\n",
      "Requirement already satisfied: langchain-core<1.0.0,>=0.3.72 in c:\\users\\arasm\\documentos\\curso de matematica y algoritmos\\myenv\\lib\\site-packages (from langchain) (0.3.76)\n",
      "Requirement already satisfied: langchain-text-splitters<1.0.0,>=0.3.9 in c:\\users\\arasm\\documentos\\curso de matematica y algoritmos\\myenv\\lib\\site-packages (from langchain) (0.3.11)\n",
      "Requirement already satisfied: langsmith>=0.1.17 in c:\\users\\arasm\\documentos\\curso de matematica y algoritmos\\myenv\\lib\\site-packages (from langchain) (0.4.31)\n",
      "Requirement already satisfied: pydantic<3.0.0,>=2.7.4 in c:\\users\\arasm\\documentos\\curso de matematica y algoritmos\\myenv\\lib\\site-packages (from langchain) (2.11.7)\n",
      "Requirement already satisfied: SQLAlchemy<3,>=1.4 in c:\\users\\arasm\\documentos\\curso de matematica y algoritmos\\myenv\\lib\\site-packages (from langchain) (2.0.43)\n",
      "Requirement already satisfied: requests<3,>=2 in c:\\users\\arasm\\documentos\\curso de matematica y algoritmos\\myenv\\lib\\site-packages (from langchain) (2.32.5)\n",
      "Requirement already satisfied: PyYAML>=5.3 in c:\\users\\arasm\\documentos\\curso de matematica y algoritmos\\myenv\\lib\\site-packages (from langchain) (6.0.2)\n",
      "Requirement already satisfied: charset-normalizer in c:\\users\\arasm\\documentos\\curso de matematica y algoritmos\\myenv\\lib\\site-packages (from unstructured) (3.4.2)\n",
      "Collecting filetype (from unstructured)\n",
      "  Using cached filetype-1.2.0-py2.py3-none-any.whl.metadata (6.5 kB)\n",
      "Collecting python-magic (from unstructured)\n",
      "  Using cached python_magic-0.4.27-py2.py3-none-any.whl.metadata (5.8 kB)\n",
      "Collecting lxml (from unstructured)\n",
      "  Downloading lxml-6.0.2-cp312-cp312-win_amd64.whl.metadata (3.7 kB)\n",
      "Requirement already satisfied: nltk in c:\\users\\arasm\\documentos\\curso de matematica y algoritmos\\myenv\\lib\\site-packages (from unstructured) (3.9.1)\n",
      "Collecting beautifulsoup4 (from unstructured)\n",
      "  Downloading beautifulsoup4-4.14.2-py3-none-any.whl.metadata (3.8 kB)\n",
      "Collecting emoji (from unstructured)\n",
      "  Downloading emoji-2.15.0-py3-none-any.whl.metadata (5.7 kB)\n",
      "Requirement already satisfied: dataclasses-json in c:\\users\\arasm\\documentos\\curso de matematica y algoritmos\\myenv\\lib\\site-packages (from unstructured) (0.6.7)\n",
      "Collecting python-iso639 (from unstructured)\n",
      "  Using cached python_iso639-2025.2.18-py3-none-any.whl.metadata (14 kB)\n",
      "Collecting langdetect (from unstructured)\n",
      "  Using cached langdetect-1.0.9-py3-none-any.whl\n",
      "Requirement already satisfied: numpy in c:\\users\\arasm\\documentos\\curso de matematica y algoritmos\\myenv\\lib\\site-packages (from unstructured) (2.1.3)\n",
      "Collecting rapidfuzz (from unstructured)\n",
      "  Downloading rapidfuzz-3.14.1-cp312-cp312-win_amd64.whl.metadata (12 kB)\n",
      "Requirement already satisfied: backoff in c:\\users\\arasm\\documentos\\curso de matematica y algoritmos\\myenv\\lib\\site-packages (from unstructured) (2.2.1)\n",
      "Requirement already satisfied: typing-extensions in c:\\users\\arasm\\documentos\\curso de matematica y algoritmos\\myenv\\lib\\site-packages (from unstructured) (4.14.0)\n",
      "Collecting unstructured-client (from unstructured)\n",
      "  Downloading unstructured_client-0.42.3-py3-none-any.whl.metadata (23 kB)\n",
      "Requirement already satisfied: wrapt in c:\\users\\arasm\\documentos\\curso de matematica y algoritmos\\myenv\\lib\\site-packages (from unstructured) (1.17.2)\n",
      "Requirement already satisfied: tqdm in c:\\users\\arasm\\documentos\\curso de matematica y algoritmos\\myenv\\lib\\site-packages (from unstructured) (4.67.1)\n",
      "Requirement already satisfied: psutil in c:\\users\\arasm\\documentos\\curso de matematica y algoritmos\\myenv\\lib\\site-packages (from unstructured) (7.0.0)\n",
      "Collecting python-oxmsg (from unstructured)\n",
      "  Using cached python_oxmsg-0.0.2-py3-none-any.whl.metadata (5.0 kB)\n",
      "Collecting html5lib (from unstructured)\n",
      "  Using cached html5lib-1.1-py2.py3-none-any.whl.metadata (16 kB)\n",
      "Requirement already satisfied: tenacity!=8.4.0,<10.0.0,>=8.1.0 in c:\\users\\arasm\\documentos\\curso de matematica y algoritmos\\myenv\\lib\\site-packages (from langchain-core<1.0.0,>=0.3.72->langchain) (9.1.2)\n",
      "Requirement already satisfied: jsonpatch<2.0,>=1.33 in c:\\users\\arasm\\documentos\\curso de matematica y algoritmos\\myenv\\lib\\site-packages (from langchain-core<1.0.0,>=0.3.72->langchain) (1.33)\n",
      "Requirement already satisfied: packaging>=23.2 in c:\\users\\arasm\\documentos\\curso de matematica y algoritmos\\myenv\\lib\\site-packages (from langchain-core<1.0.0,>=0.3.72->langchain) (24.2)\n",
      "Requirement already satisfied: httpx<1,>=0.23.0 in c:\\users\\arasm\\documentos\\curso de matematica y algoritmos\\myenv\\lib\\site-packages (from langsmith>=0.1.17->langchain) (0.28.1)\n",
      "Requirement already satisfied: orjson>=3.9.14 in c:\\users\\arasm\\documentos\\curso de matematica y algoritmos\\myenv\\lib\\site-packages (from langsmith>=0.1.17->langchain) (3.11.3)\n",
      "Requirement already satisfied: requests-toolbelt>=1.0.0 in c:\\users\\arasm\\documentos\\curso de matematica y algoritmos\\myenv\\lib\\site-packages (from langsmith>=0.1.17->langchain) (1.0.0)\n",
      "Requirement already satisfied: zstandard>=0.23.0 in c:\\users\\arasm\\documentos\\curso de matematica y algoritmos\\myenv\\lib\\site-packages (from langsmith>=0.1.17->langchain) (0.25.0)\n",
      "Requirement already satisfied: annotated-types>=0.6.0 in c:\\users\\arasm\\documentos\\curso de matematica y algoritmos\\myenv\\lib\\site-packages (from pydantic<3.0.0,>=2.7.4->langchain) (0.7.0)\n",
      "Requirement already satisfied: pydantic-core==2.33.2 in c:\\users\\arasm\\documentos\\curso de matematica y algoritmos\\myenv\\lib\\site-packages (from pydantic<3.0.0,>=2.7.4->langchain) (2.33.2)\n",
      "Requirement already satisfied: typing-inspection>=0.4.0 in c:\\users\\arasm\\documentos\\curso de matematica y algoritmos\\myenv\\lib\\site-packages (from pydantic<3.0.0,>=2.7.4->langchain) (0.4.1)\n",
      "Requirement already satisfied: idna<4,>=2.5 in c:\\users\\arasm\\documentos\\curso de matematica y algoritmos\\myenv\\lib\\site-packages (from requests<3,>=2->langchain) (3.10)\n",
      "Requirement already satisfied: urllib3<3,>=1.21.1 in c:\\users\\arasm\\documentos\\curso de matematica y algoritmos\\myenv\\lib\\site-packages (from requests<3,>=2->langchain) (2.4.0)\n",
      "Requirement already satisfied: certifi>=2017.4.17 in c:\\users\\arasm\\documentos\\curso de matematica y algoritmos\\myenv\\lib\\site-packages (from requests<3,>=2->langchain) (2025.4.26)\n",
      "Requirement already satisfied: greenlet>=1 in c:\\users\\arasm\\documentos\\curso de matematica y algoritmos\\myenv\\lib\\site-packages (from SQLAlchemy<3,>=1.4->langchain) (3.2.4)\n",
      "Collecting soupsieve>1.2 (from beautifulsoup4->unstructured)\n",
      "  Downloading soupsieve-2.8-py3-none-any.whl.metadata (4.6 kB)\n",
      "Requirement already satisfied: marshmallow<4.0.0,>=3.18.0 in c:\\users\\arasm\\documentos\\curso de matematica y algoritmos\\myenv\\lib\\site-packages (from dataclasses-json->unstructured) (3.26.1)\n",
      "Requirement already satisfied: typing-inspect<1,>=0.4.0 in c:\\users\\arasm\\documentos\\curso de matematica y algoritmos\\myenv\\lib\\site-packages (from dataclasses-json->unstructured) (0.9.0)\n",
      "Requirement already satisfied: six>=1.9 in c:\\users\\arasm\\documentos\\curso de matematica y algoritmos\\myenv\\lib\\site-packages (from html5lib->unstructured) (1.17.0)\n",
      "Collecting webencodings (from html5lib->unstructured)\n",
      "  Using cached webencodings-0.5.1-py2.py3-none-any.whl.metadata (2.1 kB)\n",
      "Requirement already satisfied: click in c:\\users\\arasm\\documentos\\curso de matematica y algoritmos\\myenv\\lib\\site-packages (from nltk->unstructured) (8.2.1)\n",
      "Requirement already satisfied: joblib in c:\\users\\arasm\\documentos\\curso de matematica y algoritmos\\myenv\\lib\\site-packages (from nltk->unstructured) (1.5.1)\n",
      "Requirement already satisfied: regex>=2021.8.3 in c:\\users\\arasm\\documentos\\curso de matematica y algoritmos\\myenv\\lib\\site-packages (from nltk->unstructured) (2024.11.6)\n",
      "Collecting olefile (from python-oxmsg->unstructured)\n",
      "  Using cached olefile-0.47-py2.py3-none-any.whl.metadata (9.7 kB)\n",
      "Requirement already satisfied: colorama in c:\\users\\arasm\\documentos\\curso de matematica y algoritmos\\myenv\\lib\\site-packages (from tqdm->unstructured) (0.4.6)\n",
      "Collecting aiofiles>=24.1.0 (from unstructured-client->unstructured)\n",
      "  Using cached aiofiles-24.1.0-py3-none-any.whl.metadata (10 kB)\n",
      "Collecting cryptography>=3.1 (from unstructured-client->unstructured)\n",
      "  Downloading cryptography-46.0.2-cp311-abi3-win_amd64.whl.metadata (5.7 kB)\n",
      "Requirement already satisfied: httpcore>=1.0.9 in c:\\users\\arasm\\documentos\\curso de matematica y algoritmos\\myenv\\lib\\site-packages (from unstructured-client->unstructured) (1.0.9)\n",
      "Collecting pypdf>=4.0 (from unstructured-client->unstructured)\n",
      "  Downloading pypdf-6.1.1-py3-none-any.whl.metadata (7.1 kB)\n",
      "Collecting cffi>=2.0.0 (from cryptography>=3.1->unstructured-client->unstructured)\n",
      "  Downloading cffi-2.0.0-cp312-cp312-win_amd64.whl.metadata (2.6 kB)\n",
      "Requirement already satisfied: h11>=0.16 in c:\\users\\arasm\\documentos\\curso de matematica y algoritmos\\myenv\\lib\\site-packages (from httpcore>=1.0.9->unstructured-client->unstructured) (0.16.0)\n",
      "Requirement already satisfied: anyio in c:\\users\\arasm\\documentos\\curso de matematica y algoritmos\\myenv\\lib\\site-packages (from httpx<1,>=0.23.0->langsmith>=0.1.17->langchain) (4.11.0)\n",
      "Requirement already satisfied: jsonpointer>=1.9 in c:\\users\\arasm\\documentos\\curso de matematica y algoritmos\\myenv\\lib\\site-packages (from jsonpatch<2.0,>=1.33->langchain-core<1.0.0,>=0.3.72->langchain) (3.0.0)\n",
      "Requirement already satisfied: mypy-extensions>=0.3.0 in c:\\users\\arasm\\documentos\\curso de matematica y algoritmos\\myenv\\lib\\site-packages (from typing-inspect<1,>=0.4.0->dataclasses-json->unstructured) (1.1.0)\n",
      "Collecting pycparser (from cffi>=2.0.0->cryptography>=3.1->unstructured-client->unstructured)\n",
      "  Downloading pycparser-2.23-py3-none-any.whl.metadata (993 bytes)\n",
      "Requirement already satisfied: sniffio>=1.1 in c:\\users\\arasm\\documentos\\curso de matematica y algoritmos\\myenv\\lib\\site-packages (from anyio->httpx<1,>=0.23.0->langsmith>=0.1.17->langchain) (1.3.1)\n",
      "Downloading unstructured-0.18.15-py3-none-any.whl (1.8 MB)\n",
      "   ---------------------------------------- 0.0/1.8 MB ? eta -:--:--\n",
      "   ---------------------------------------- 1.8/1.8 MB 16.1 MB/s eta 0:00:00\n",
      "Downloading beautifulsoup4-4.14.2-py3-none-any.whl (106 kB)\n",
      "Downloading emoji-2.15.0-py3-none-any.whl (608 kB)\n",
      "   ---------------------------------------- 0.0/608.4 kB ? eta -:--:--\n",
      "   --------------------------------------- 608.4/608.4 kB 10.8 MB/s eta 0:00:00\n",
      "Using cached filetype-1.2.0-py2.py3-none-any.whl (19 kB)\n",
      "Using cached html5lib-1.1-py2.py3-none-any.whl (112 kB)\n",
      "Downloading lxml-6.0.2-cp312-cp312-win_amd64.whl (4.0 MB)\n",
      "   ---------------------------------------- 0.0/4.0 MB ? eta -:--:--\n",
      "   ---------------------------------------- 4.0/4.0 MB 34.1 MB/s eta 0:00:00\n",
      "Using cached python_iso639-2025.2.18-py3-none-any.whl (167 kB)\n",
      "Using cached python_magic-0.4.27-py2.py3-none-any.whl (13 kB)\n",
      "Using cached python_oxmsg-0.0.2-py3-none-any.whl (31 kB)\n",
      "Downloading rapidfuzz-3.14.1-cp312-cp312-win_amd64.whl (1.5 MB)\n",
      "   ---------------------------------------- 0.0/1.5 MB ? eta -:--:--\n",
      "   ---------------------------------------- 1.5/1.5 MB 41.3 MB/s eta 0:00:00\n",
      "Downloading unstructured_client-0.42.3-py3-none-any.whl (207 kB)\n",
      "Using cached aiofiles-24.1.0-py3-none-any.whl (15 kB)\n",
      "Downloading cryptography-46.0.2-cp311-abi3-win_amd64.whl (3.5 MB)\n",
      "   ---------------------------------------- 0.0/3.5 MB ? eta -:--:--\n",
      "   ---------------------------------------- 3.5/3.5 MB 35.0 MB/s eta 0:00:00\n",
      "Downloading pypdf-6.1.1-py3-none-any.whl (323 kB)\n",
      "Downloading soupsieve-2.8-py3-none-any.whl (36 kB)\n",
      "Using cached olefile-0.47-py2.py3-none-any.whl (114 kB)\n",
      "Using cached webencodings-0.5.1-py2.py3-none-any.whl (11 kB)\n",
      "Downloading cffi-2.0.0-cp312-cp312-win_amd64.whl (183 kB)\n",
      "Downloading pycparser-2.23-py3-none-any.whl (118 kB)\n",
      "Installing collected packages: webencodings, filetype, soupsieve, rapidfuzz, python-magic, python-iso639, pypdf, pycparser, olefile, lxml, langdetect, html5lib, emoji, aiofiles, python-oxmsg, cffi, beautifulsoup4, cryptography, unstructured-client, unstructured\n",
      "Successfully installed aiofiles-24.1.0 beautifulsoup4-4.14.2 cffi-2.0.0 cryptography-46.0.2 emoji-2.15.0 filetype-1.2.0 html5lib-1.1 langdetect-1.0.9 lxml-6.0.2 olefile-0.47 pycparser-2.23 pypdf-6.1.1 python-iso639-2025.2.18 python-magic-0.4.27 python-oxmsg-0.0.2 rapidfuzz-3.14.1 soupsieve-2.8 unstructured-0.18.15 unstructured-client-0.42.3 webencodings-0.5.1\n",
      "Note: you may need to restart the kernel to use updated packages.\n"
     ]
    },
    {
     "name": "stderr",
     "output_type": "stream",
     "text": [
      "\n",
      "[notice] A new release of pip is available: 24.2 -> 25.2\n",
      "[notice] To update, run: python.exe -m pip install --upgrade pip\n"
     ]
    }
   ],
   "source": [
    "%pip install langchain unstructured "
   ]
  },
  {
   "cell_type": "code",
   "execution_count": 1,
   "id": "5be0186e",
   "metadata": {},
   "outputs": [
    {
     "name": "stderr",
     "output_type": "stream",
     "text": [
      "  0%|          | 0/2 [00:00<?, ?it/s]libmagic is unavailable but assists in filetype detection. Please consider installing libmagic for better results.\n",
      " 50%|█████     | 1/2 [00:04<00:04,  4.50s/it]libmagic is unavailable but assists in filetype detection. Please consider installing libmagic for better results.\n",
      "100%|██████████| 2/2 [00:04<00:00,  2.27s/it]"
     ]
    },
    {
     "name": "stdout",
     "output_type": "stream",
     "text": [
      "Cantidad de chunks: 46\n",
      "Primer chunk: Diario de una pasion: En un hogar de retiro un hombre le lee a una mujer, que sufre de Alzheimer, la historia de dos jóvenes de distintas clases sociales que se enamoraron durante la convulsionada\n"
     ]
    },
    {
     "name": "stderr",
     "output_type": "stream",
     "text": [
      "\n"
     ]
    }
   ],
   "source": [
    "from langchain.document_loaders import DirectoryLoader\n",
    "from langchain.text_splitter import RecursiveCharacterTextSplitter\n",
    "\n",
    "# Cargar documentos desde la carpeta\n",
    "loader = DirectoryLoader(\"../data\", show_progress=True)\n",
    "documentos = loader.load()\n",
    "\n",
    "# Dividir en fragmentos\n",
    "splitter = RecursiveCharacterTextSplitter(chunk_size=200, chunk_overlap=50)\n",
    "chunks = splitter.split_documents(documentos)\n",
    "\n",
    "print(f\"Cantidad de chunks: {len(chunks)}\")\n",
    "print(\"Primer chunk:\", chunks[0].page_content)"
   ]
  },
  {
   "cell_type": "code",
   "execution_count": null,
   "id": "64bb4bc5",
   "metadata": {},
   "outputs": [
    {
     "name": "stderr",
     "output_type": "stream",
     "text": [
      "C:\\Users\\arasm\\AppData\\Local\\Temp\\ipykernel_25816\\429031876.py:9: LangChainDeprecationWarning: The class `HuggingFaceEmbeddings` was deprecated in LangChain 0.2.2 and will be removed in 1.0. An updated version of the class exists in the :class:`~langchain-huggingface package and should be used instead. To use it run `pip install -U :class:`~langchain-huggingface` and import as `from :class:`~langchain_huggingface import HuggingFaceEmbeddings``.\n",
      "  emb = HuggingFaceEmbeddings(model_name=\"sentence-transformers/all-MiniLM-L6-v2\")\n",
      "c:\\Users\\arasm\\Documentos\\curso de matematica y algoritmos\\myenv\\Lib\\site-packages\\tqdm\\auto.py:21: TqdmWarning: IProgress not found. Please update jupyter and ipywidgets. See https://ipywidgets.readthedocs.io/en/stable/user_install.html\n",
      "  from .autonotebook import tqdm as notebook_tqdm\n"
     ]
    },
    {
     "name": "stdout",
     "output_type": "stream",
     "text": [
      "Documentos cargados en FAISS\n"
     ]
    }
   ],
   "source": [
    "from langchain_community.vectorstores import FAISS\n",
    "from langchain_community.embeddings import HuggingFaceEmbeddings\n",
    "\n",
    "###creacion del modelo de embedding a usar\n",
    "emb = HuggingFaceEmbeddings(model_name=\"sentence-transformers/all-MiniLM-L6-v2\")\n",
    "\n",
    "### creacion del vector store a utilizar\n",
    "vector_store = FAISS.from_documents(\n",
    "    documents=chunks,         \n",
    "    embedding=emb\n",
    ")\n",
    "print(\"Documentos cargados en FAISS\")\n"
   ]
  },
  {
   "cell_type": "code",
   "execution_count": null,
   "id": "b280e5bd",
   "metadata": {},
   "outputs": [],
   "source": [
    "##retriever donde se extraen los 3 mas relevantes\n",
    "retriever = vector_store.as_retriever(search_kwargs ={\"k\":3})"
   ]
  },
  {
   "cell_type": "code",
   "execution_count": null,
   "id": "b683ba2c",
   "metadata": {},
   "outputs": [],
   "source": [
    "## creacion del llm de ollama\n",
    "from langchain_ollama import ChatOllama\n",
    "llm = ChatOllama(model=\"llama3\", temperature=0)"
   ]
  },
  {
   "cell_type": "code",
   "execution_count": null,
   "id": "ebad972a",
   "metadata": {},
   "outputs": [],
   "source": [
    "from langchain.prompts import PromptTemplate\n",
    "##creacion del prompt\n",
    "prompt = PromptTemplate(\n",
    "template = \"\"\"\n",
    "Eres un asistente que habla acerca de las sinopsis de peliculas. Si el usuario pregunta algo que no aparece en el contexto, respondé: \"Lo siento, no tengo información sobre eso\" \n",
    "Contexto:\n",
    "{context}\n",
    "\n",
    "Usuario:\n",
    "{input}\n",
    "\n",
    "Responde de forma clara, concisa y en español.\n",
    "\"\"\"\n",
    ")"
   ]
  },
  {
   "cell_type": "code",
   "execution_count": 16,
   "id": "3681c254",
   "metadata": {},
   "outputs": [],
   "source": [
    "from langchain_core.runnables import RunnablePassthrough\n",
    "from langchain_core.output_parsers import StrOutputParser\n",
    "\n",
    "### creacion del contexto desde el retriever\n",
    "def build_context(inputs):\n",
    "    docs = retriever.get_relevant_documents(inputs[\"input\"])\n",
    "    return \"\\n\\n\".join(d.page_content for d in docs)\n",
    "\n",
    "##pipeline para armar el RAG\n",
    "final_chain = (\n",
    "    RunnablePassthrough.assign(context=build_context) \n",
    "    | prompt\n",
    "    | llm\n",
    "    | StrOutputParser()\n",
    ")\n",
    "\n"
   ]
  },
  {
   "cell_type": "code",
   "execution_count": null,
   "id": "4e54cbb9",
   "metadata": {},
   "outputs": [
    {
     "name": "stdout",
     "output_type": "stream",
     "text": [
      "------ Preguntas y sus respuestas ------\n",
      "{'Cual es la sinopsis de IronMan?': 'La sinopsis de Iron Man es: Un multimillonario fabricante de armas llamado Tony Stark es secuestrado por '\n",
      "                                    'terroristas que lo obligan a construir un arma devastadora. Sin embargo, después de escapar, Tony se convierte '\n",
      "                                    'en Iron Man, un héroe dedicado a combatir el mal con su armadura de última generación.',\n",
      " 'Cual es la sinopsis de dr strange?': 'La sinopsis de Dr. Strange es: \"Dr. Stephen Strange, un famoso neurocirujano, cambia su vida después de un '\n",
      "                                       'terrible accidente de coche que le arrebata el uso de sus manos. Cuando la medicina tradicional le falla, se '\n",
      "                                       'enfrenta a las letales fuerzas del mal controladas por el Dr. Thaddeus Sivana.\"',\n",
      " 'Cual es la sinopsis de superman?': 'La sinopsis de Superman es: El multimillonario tecnológico Lex Luthor aprovecha la oportunidad para quitarse '\n",
      "                                     'de en medio definitivamente al Hombre de Acero. ¿Podrán la reportera Lois Lane y el compañero de cuatro patas '\n",
      "                                     'de Superman, Krypto, ayudarle antes de que sea tarde?',\n",
      " 'Cual es la sinopsis de titanic?': 'La sinopsis de Titanic es la siguiente: Jack es un joven artista que gana un pasaje para viajar a América en el '\n",
      "                                    'Titanic, el transatlántico más grande y seguro jamás construido. A bordo del buque conoce a Rose, una chica de '\n",
      "                                    'clase alta, y se enamoran a pesar de las trabas que ponen la madre de ella y Cal en su relación. Mientras, el '\n",
      "                                    'lujoso transatlántico se acerca a un inmenso iceberg.',\n",
      " 'Cual es la sinopsis de un pedacito de cielo': 'La sinopsis de \"Un pedacito de cielo\" es: Marley Corbett, ejecutiva de publicidad de Nueva Orleans, '\n",
      "                                                'es una mujer libre que evita los compromisos y gana apoyo y fortaleza de su círculo de amigos '\n",
      "                                                'cercanos.'}\n"
     ]
    }
   ],
   "source": [
    "from pprint import pprint #para poder imprimir el diccionario clave: valor /n clave:valor....\n",
    "if __name__ == \"__main__\":\n",
    "    questions = [\"Cual es la sinopsis de superman?\",\n",
    "                 \"Cual es la sinopsis de dr strange?\",\n",
    "                 \"Cual es la sinopsis de un pedacito de cielo\", \n",
    "                 \"Cual es la sinopsis de IronMan?\",\n",
    "                 \"Cual es la sinopsis de titanic?\"]\n",
    "    responses = []\n",
    "    for question in questions: ##generacion de las respuestas\n",
    "        resp = final_chain.invoke({\"input\": question})\n",
    "        responses.append(resp)\n",
    "\n",
    "    print(\"------ Preguntas y sus respuestas ------\")\n",
    "    dic = dict(zip(questions, responses))\n",
    "    pprint(dic, width=150, compact=True)\n"
   ]
  }
 ],
 "metadata": {
  "kernelspec": {
   "display_name": "myenv",
   "language": "python",
   "name": "python3"
  },
  "language_info": {
   "codemirror_mode": {
    "name": "ipython",
    "version": 3
   },
   "file_extension": ".py",
   "mimetype": "text/x-python",
   "name": "python",
   "nbconvert_exporter": "python",
   "pygments_lexer": "ipython3",
   "version": "3.12.7"
  }
 },
 "nbformat": 4,
 "nbformat_minor": 5
}
